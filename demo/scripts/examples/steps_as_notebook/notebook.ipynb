{
 "cells": [
  {
   "cell_type": "code",
   "execution_count": 4,
   "metadata": {},
   "outputs": [],
   "source": [
    "import requests as rq\n",
    "from requests.structures import CaseInsensitiveDict"
   ]
  },
  {
   "cell_type": "code",
   "execution_count": 6,
   "metadata": {},
   "outputs": [],
   "source": [
    "host = \"http://128.179.184.61\""
   ]
  },
  {
   "cell_type": "markdown",
   "metadata": {},
   "source": [
    "# 1. a_create-credential-schema"
   ]
  },
  {
   "cell_type": "code",
   "execution_count": 12,
   "metadata": {},
   "outputs": [
    {
     "data": {
      "text/plain": [
       "'{\"sent\": {\"schema_id\": \"GxgDCXeCGmqqz259Mva9h6:2:oisin_schema1:1.0\", \"schema\": {\"ver\": \"1.0\", \"id\": \"GxgDCXeCGmqqz259Mva9h6:2:oisin_schema1:1.0\", \"name\": \"oisin_schema1\", \"version\": \"1.0\", \"attrNames\": [\"score\"], \"seqNo\": 63796}}, \"schema_id\": \"GxgDCXeCGmqqz259Mva9h6:2:oisin_schema1:1.0\", \"schema\": {\"ver\": \"1.0\", \"id\": \"GxgDCXeCGmqqz259Mva9h6:2:oisin_schema1:1.0\", \"name\": \"oisin_schema1\", \"version\": \"1.0\", \"attrNames\": [\"score\"], \"seqNo\": 63796}}'"
      ]
     },
     "execution_count": 12,
     "metadata": {},
     "output_type": "execute_result"
    }
   ],
   "source": [
    "headers = CaseInsensitiveDict()\n",
    "headers[\"Content-Type\"] = \"application/json\"\n",
    "headers[\"accept\"] = \"application/json\"\n",
    "\n",
    "data = \"\"\"\n",
    "{\n",
    "  \"attributes\": [\n",
    "    \"score\"\n",
    "  ],\n",
    "  \"schema_name\": \"oisin_schema1\",\n",
    "  \"schema_version\": \"1.0\"\n",
    "}\n",
    "\"\"\"\n",
    "\n",
    "res = rq.post(f'{host}:9020/schemas?create_transaction_for_endorser=false', headers=headers, data=data)\n",
    "res.text"
   ]
  },
  {
   "cell_type": "code",
   "execution_count": 18,
   "metadata": {},
   "outputs": [
    {
     "data": {
      "text/plain": [
       "'GxgDCXeCGmqqz259Mva9h6:2:oisin_schema1:1.0'"
      ]
     },
     "execution_count": 18,
     "metadata": {},
     "output_type": "execute_result"
    }
   ],
   "source": [
    "res.json()['sent']['schema_id']"
   ]
  },
  {
   "cell_type": "markdown",
   "metadata": {},
   "source": [
    "# 1. b_define-credential-without-revocation"
   ]
  },
  {
   "cell_type": "code",
   "execution_count": 103,
   "metadata": {},
   "outputs": [
    {
     "data": {
      "text/plain": [
       "'{\"sent\": {\"credential_definition_id\": \"GxgDCXeCGmqqz259Mva9h6:3:CL:63796:LauzhackDemoRevoke3\"}, \"credential_definition_id\": \"GxgDCXeCGmqqz259Mva9h6:3:CL:63796:LauzhackDemoRevoke3\"}'"
      ]
     },
     "execution_count": 103,
     "metadata": {},
     "output_type": "execute_result"
    }
   ],
   "source": [
    "headers = CaseInsensitiveDict()\n",
    "headers[\"Content-Type\"] = \"application/json\"\n",
    "headers[\"accept\"] = \"application/json\"\n",
    "\n",
    "data = \"\"\"\n",
    "{\n",
    "  \"revocation_registry_size\": 1000,\n",
    "  \"schema_id\": \"%s\",\n",
    "  \"support_revocation\": true,\n",
    "  \"tag\": \"LauzhackDemoRevoke3\"\n",
    "}\n",
    "\"\"\"%res.json()['sent']['schema_id']\n",
    "\n",
    "res1 = rq.post(f'{host}:9020/credential-definitions?create_transaction_for_endorser=false', headers=headers, data=data)\n",
    "res1.text"
   ]
  },
  {
   "cell_type": "code",
   "execution_count": 104,
   "metadata": {},
   "outputs": [
    {
     "data": {
      "text/plain": [
       "{'credential_definition_ids': ['GxgDCXeCGmqqz259Mva9h6:3:CL:63795:bruno_test',\n",
       "  'GxgDCXeCGmqqz259Mva9h6:3:CL:63797:Github',\n",
       "  'GxgDCXeCGmqqz259Mva9h6:3:CL:63797:LauzhackDemo',\n",
       "  'GxgDCXeCGmqqz259Mva9h6:3:CL:63796:LauzhackDemoRevoke2',\n",
       "  'GxgDCXeCGmqqz259Mva9h6:3:CL:63796:LauzhackDemoRevoke',\n",
       "  'GxgDCXeCGmqqz259Mva9h6:3:CL:63796:LauzhackDemo',\n",
       "  'GxgDCXeCGmqqz259Mva9h6:3:CL:63796:LauzhackDemoRevoke3']}"
      ]
     },
     "execution_count": 104,
     "metadata": {},
     "output_type": "execute_result"
    }
   ],
   "source": [
    "rq.get(f\"{host}:9020/credential-definitions/created\").json()"
   ]
  },
  {
   "cell_type": "code",
   "execution_count": 105,
   "metadata": {},
   "outputs": [
    {
     "data": {
      "text/plain": [
       "{'sent': {'credential_definition_id': 'GxgDCXeCGmqqz259Mva9h6:3:CL:63796:LauzhackDemoRevoke3'},\n",
       " 'credential_definition_id': 'GxgDCXeCGmqqz259Mva9h6:3:CL:63796:LauzhackDemoRevoke3'}"
      ]
     },
     "execution_count": 105,
     "metadata": {},
     "output_type": "execute_result"
    }
   ],
   "source": [
    "res1.json()"
   ]
  },
  {
   "cell_type": "code",
   "execution_count": 150,
   "metadata": {},
   "outputs": [
    {
     "data": {
      "text/plain": [
       "'GxgDCXeCGmqqz259Mva9h6:3:CL:63796:LauzhackDemoRevoke3'"
      ]
     },
     "execution_count": 150,
     "metadata": {},
     "output_type": "execute_result"
    }
   ],
   "source": [
    "cred_def = res1.json()['credential_definition_id']\n",
    "#cred_def = \"GxgDCXeCGmqqz259Mva9h6:3:CL:63797:LauzhackDemo\"\n",
    "cred_def"
   ]
  },
  {
   "cell_type": "markdown",
   "metadata": {},
   "source": [
    "# 2. a_create-a-connection"
   ]
  },
  {
   "cell_type": "code",
   "execution_count": 123,
   "metadata": {},
   "outputs": [
    {
     "data": {
      "text/plain": [
       "'{\"invitationUrl\":\"http://1763-2001-620-618-5b8-2-80b3-0-790.eu.ngrok.io?c_i=eyJAdHlwZSI6ICJkaWQ6c292OkJ6Q2JzTlloTXJqSGlxWkRUVUFTSGc7c3BlYy9jb25uZWN0aW9ucy8xLjAvaW52aXRhdGlvbiIsICJAaWQiOiAiZWY0MmQzYmItZWZmYy00YWEwLTg0YzktNjYwZWJiODcyMmZjIiwgInNlcnZpY2VFbmRwb2ludCI6ICJodHRwOi8vMTc2My0yMDAxLTYyMC02MTgtNWI4LTItODBiMy0wLTc5MC5ldS5uZ3Jvay5pbyIsICJsYWJlbCI6ICJBZG5vdnVtIFZDTVMgRGV2IiwgInJlY2lwaWVudEtleXMiOiBbIkdneTNTYTlLU0t1N2dkVXJaOXN0RnpOcnRUZlVqQ0thV0VOMzRUSDhWZGJxIl19\",\"connectionId\":\"0a892073-4228-423a-ac79-9ce73a22eb2e\"}'"
      ]
     },
     "execution_count": 123,
     "metadata": {},
     "output_type": "execute_result"
    }
   ],
   "source": [
    "headers = CaseInsensitiveDict()\n",
    "headers[\"accept\"] = \"application/json\"\n",
    "\n",
    "data = \"\"\"\n",
    "''\n",
    "\"\"\"\n",
    "\n",
    "res2 = rq.post(f'{host}:8080/connection/invitation', headers=headers, data=data)\n",
    "res2.text"
   ]
  },
  {
   "cell_type": "code",
   "execution_count": 124,
   "metadata": {},
   "outputs": [
    {
     "data": {
      "text/plain": [
       "'0a892073-4228-423a-ac79-9ce73a22eb2e'"
      ]
     },
     "execution_count": 124,
     "metadata": {},
     "output_type": "execute_result"
    }
   ],
   "source": [
    "res2.json()['connectionId']"
   ]
  },
  {
   "cell_type": "markdown",
   "metadata": {},
   "source": [
    "# 2. b_verify-connection-status"
   ]
  },
  {
   "cell_type": "code",
   "execution_count": 133,
   "metadata": {},
   "outputs": [
    {
     "name": "stdout",
     "output_type": "stream",
     "text": [
      "0a892073-4228-423a-ac79-9ce73a22eb2e\n"
     ]
    },
    {
     "data": {
      "text/plain": [
       "'\"responded\"'"
      ]
     },
     "execution_count": 133,
     "metadata": {},
     "output_type": "execute_result"
    }
   ],
   "source": [
    "headers = CaseInsensitiveDict()\n",
    "headers[\"accept\"] = \"application/json\"\n",
    "\n",
    "connectionid = res2.json()['connectionId']\n",
    "print(connectionid)\n",
    "\n",
    "res3 = rq.get(f'{host}:8080/connection/{connectionid}', headers=headers)\n",
    "res3.text"
   ]
  },
  {
   "cell_type": "markdown",
   "metadata": {},
   "source": [
    "# 3. a_issue-a-credential"
   ]
  },
  {
   "cell_type": "code",
   "execution_count": 134,
   "metadata": {},
   "outputs": [
    {
     "name": "stdout",
     "output_type": "stream",
     "text": [
      "GxgDCXeCGmqqz259Mva9h6:3:CL:63797:LauzhackDemo\n"
     ]
    }
   ],
   "source": [
    "print(cred_def)"
   ]
  },
  {
   "cell_type": "code",
   "execution_count": 151,
   "metadata": {},
   "outputs": [
    {
     "data": {
      "text/plain": [
       "'{\"status\":\"IN_PROGRESS\",\"processId\":\"55bdab49-abb3-4385-8d8e-58e1e2a2a969\"}'"
      ]
     },
     "execution_count": 151,
     "metadata": {},
     "output_type": "execute_result"
    }
   ],
   "source": [
    "headers = CaseInsensitiveDict()\n",
    "headers[\"accept\"] = \"application/json\"\n",
    "headers[\"Content-Type\"] = \"application/json\"\n",
    "\n",
    "data = \"\"\"\n",
    "{\"connectionId\":\"%s\",\n",
    "\"credentialDefinitionId\":\"%s\",\n",
    "\"attributes\": {\"score\": \"45\"}\n",
    "}'\n",
    "\"\"\"% (res2.json()['connectionId'], cred_def)\n",
    "\n",
    "res4 = rq.post(f'{host}:8100/issue/process', headers=headers, data=data)\n",
    "res4.text"
   ]
  },
  {
   "cell_type": "code",
   "execution_count": 152,
   "metadata": {},
   "outputs": [
    {
     "data": {
      "text/plain": [
       "'55bdab49-abb3-4385-8d8e-58e1e2a2a969'"
      ]
     },
     "execution_count": 152,
     "metadata": {},
     "output_type": "execute_result"
    }
   ],
   "source": [
    "process_id = res4.json()['processId']\n",
    "process_id"
   ]
  },
  {
   "cell_type": "markdown",
   "metadata": {},
   "source": [
    "# 3 b_check-issuing-state"
   ]
  },
  {
   "cell_type": "code",
   "execution_count": 153,
   "metadata": {},
   "outputs": [
    {
     "name": "stdout",
     "output_type": "stream",
     "text": [
      "0a892073-4228-423a-ac79-9ce73a22eb2e\n"
     ]
    },
    {
     "data": {
      "text/plain": [
       "'\"VC_ISSUED\"'"
      ]
     },
     "execution_count": 153,
     "metadata": {},
     "output_type": "execute_result"
    }
   ],
   "source": [
    "headers = CaseInsensitiveDict()\n",
    "headers[\"accept\"] = \"application/json\"\n",
    "\n",
    "connectionid = res2.json()['connectionId']\n",
    "print(connectionid)\n",
    "\n",
    "res5 = rq.get(f'{host}:8100/issue/process/{process_id}/state', headers=headers)\n",
    "res5.text"
   ]
  },
  {
   "cell_type": "markdown",
   "metadata": {},
   "source": [
    "# 4 a_verify-credential"
   ]
  },
  {
   "cell_type": "code",
   "execution_count": 180,
   "metadata": {},
   "outputs": [
    {
     "data": {
      "text/plain": [
       "'{\"status\":\"IN_PROGRESS\",\"processId\":\"a817dd41-6d98-45ea-9d9f-7169041b71e7\"}'"
      ]
     },
     "execution_count": 180,
     "metadata": {},
     "output_type": "execute_result"
    }
   ],
   "source": [
    "headers = CaseInsensitiveDict()\n",
    "headers[\"accept\"] = \"application/json\"\n",
    "headers[\"Content-Type\"] = \"application/json\"\n",
    "\n",
    "data = \"\"\"\n",
    "{\"connectionId\":\"%s\",\n",
    "\"credentialDefinitionId\":\"%s\",\n",
    "\"attributes\": [\"score\"]\n",
    "}'\n",
    "\"\"\"% (res2.json()['connectionId'], cred_def)\n",
    "\n",
    "res6 = rq.post(f'{host}:8081/verify/process', headers=headers, data=data)\n",
    "res6.text"
   ]
  },
  {
   "cell_type": "code",
   "execution_count": 181,
   "metadata": {},
   "outputs": [
    {
     "data": {
      "text/plain": [
       "'a817dd41-6d98-45ea-9d9f-7169041b71e7'"
      ]
     },
     "execution_count": 181,
     "metadata": {},
     "output_type": "execute_result"
    }
   ],
   "source": [
    "newprocess_id = res6.json()['processId']\n",
    "newprocess_id"
   ]
  },
  {
   "cell_type": "markdown",
   "metadata": {},
   "source": [
    "# 4 b_check-verification-state"
   ]
  },
  {
   "cell_type": "code",
   "execution_count": 182,
   "metadata": {},
   "outputs": [
    {
     "data": {
      "text/plain": [
       "'\"VERIFIED\"'"
      ]
     },
     "execution_count": 182,
     "metadata": {},
     "output_type": "execute_result"
    }
   ],
   "source": [
    "headers = CaseInsensitiveDict()\n",
    "headers[\"accept\"] = \"application/json\"\n",
    "\n",
    "res7 = rq.get(f'{host}:8081/verify/process/{newprocess_id}/state', headers=headers)\n",
    "res7.text"
   ]
  },
  {
   "cell_type": "markdown",
   "metadata": {},
   "source": [
    "# 4 c_get-claims"
   ]
  },
  {
   "cell_type": "code",
   "execution_count": 183,
   "metadata": {},
   "outputs": [
    {
     "data": {
      "text/plain": [
       "'{\"score\":\"45\"}'"
      ]
     },
     "execution_count": 183,
     "metadata": {},
     "output_type": "execute_result"
    }
   ],
   "source": [
    "headers = CaseInsensitiveDict()\n",
    "headers[\"accept\"] = \"application/json\"\n",
    "\n",
    "res8 = rq.get(f'{host}:8081/verify/process/{newprocess_id}/claims', headers=headers)\n",
    "res8.text"
   ]
  },
  {
   "cell_type": "markdown",
   "metadata": {},
   "source": [
    "# 5 get_registries"
   ]
  },
  {
   "cell_type": "code",
   "execution_count": 163,
   "metadata": {},
   "outputs": [
    {
     "data": {
      "text/plain": [
       "'{\"rev_reg_ids\": [\"GxgDCXeCGmqqz259Mva9h6:4:GxgDCXeCGmqqz259Mva9h6:3:CL:63796:LauzhackDemoRevoke2:CL_ACCUM:72f71eda-e787-4536-8f91-72560ae1f168\", \"GxgDCXeCGmqqz259Mva9h6:4:GxgDCXeCGmqqz259Mva9h6:3:CL:63796:LauzhackDemoRevoke2:CL_ACCUM:1ab68c5a-0140-4031-9f74-cb4dd93c18a0\", \"GxgDCXeCGmqqz259Mva9h6:4:GxgDCXeCGmqqz259Mva9h6:3:CL:63796:LauzhackDemoRevoke3:CL_ACCUM:d94b084d-1ce3-4eaa-b7f7-ab60bdca9c37\", \"GxgDCXeCGmqqz259Mva9h6:4:GxgDCXeCGmqqz259Mva9h6:3:CL:63796:LauzhackDemoRevoke:CL_ACCUM:b3eca0a6-f2c3-4836-9766-7033ae64df0e\", \"GxgDCXeCGmqqz259Mva9h6:4:GxgDCXeCGmqqz259Mva9h6:3:CL:63796:LauzhackDemoRevoke3:CL_ACCUM:d641ffcc-2abf-4627-a04a-50b9e4b281f8\"]}'"
      ]
     },
     "execution_count": 163,
     "metadata": {},
     "output_type": "execute_result"
    }
   ],
   "source": [
    "headers = CaseInsensitiveDict()\n",
    "headers[\"accept\"] = \"application/json\"\n",
    "\n",
    "res9 = rq.get(f'{host}:9020/revocation/registries/created', headers=headers)\n",
    "res9.text"
   ]
  },
  {
   "cell_type": "code",
   "execution_count": 167,
   "metadata": {},
   "outputs": [
    {
     "data": {
      "text/plain": [
       "'{\"result\": {\"cred_def_id\": \"GxgDCXeCGmqqz259Mva9h6:3:CL:63796:LauzhackDemoRevoke3\", \"tag\": \"d641ffcc-2abf-4627-a04a-50b9e4b281f8\", \"tails_public_uri\": \"http://128.179.184.61:6543/GxgDCXeCGmqqz259Mva9h6:4:GxgDCXeCGmqqz259Mva9h6:3:CL:63796:LauzhackDemoRevoke3:CL_ACCUM:d641ffcc-2abf-4627-a04a-50b9e4b281f8\", \"record_id\": \"d641ffcc-2abf-4627-a04a-50b9e4b281f8\", \"state\": \"active\", \"tails_hash\": \"GXaF48RhPFvVhQDhi2rTQDbQzXeQykNn6iNCGwcbh68V\", \"tails_local_path\": \"/home/indy/.indy_client/tails/GxgDCXeCGmqqz259Mva9h6:4:GxgDCXeCGmqqz259Mva9h6:3:CL:63796:LauzhackDemoRevoke3:CL_ACCUM:d641ffcc-2abf-4627-a04a-50b9e4b281f8/GXaF48RhPFvVhQDhi2rTQDbQzXeQykNn6iNCGwcbh68V\", \"revoc_reg_id\": \"GxgDCXeCGmqqz259Mva9h6:4:GxgDCXeCGmqqz259Mva9h6:3:CL:63796:LauzhackDemoRevoke3:CL_ACCUM:d641ffcc-2abf-4627-a04a-50b9e4b281f8\", \"revoc_def_type\": \"CL_ACCUM\", \"issuer_did\": \"GxgDCXeCGmqqz259Mva9h6\", \"revoc_reg_def\": {\"ver\": \"1.0\", \"id\": \"GxgDCXeCGmqqz259Mva9h6:4:GxgDCXeCGmqqz259Mva9h6:3:CL:63796:LauzhackDemoRevoke3:CL_ACCUM:d641ffcc-2abf-4627-a04a-50b9e4b281f8\", \"revocDefType\": \"CL_ACCUM\", \"tag\": \"d641ffcc-2abf-4627-a04a-50b9e4b281f8\", \"credDefId\": \"GxgDCXeCGmqqz259Mva9h6:3:CL:63796:LauzhackDemoRevoke3\", \"value\": {\"issuanceType\": \"ISSUANCE_BY_DEFAULT\", \"maxCredNum\": 1000, \"publicKeys\": {\"accumKey\": {\"z\": \"1 1C40E30BCECC16DF8F40348CF682DCB1C26813474B7DB4CC1047D1F9F9DB4669 1 201695CEB7551C7E6575EED1A90DD42B9E9FE615124521D079AED1C673C5160E 1 19B3DFAE2F4D65485AC3DEAC608E6DC9A917C4058C350B703854D8738A86BB57 1 0746F1203ECB884F82F8084856CD334C20BC87BB2BD2DE6938B21C390490AC6A 1 162CC111BFA36AE178E618F723580ADEB16BC088C9A355E1929A8C5C1539DD00 1 03A9FE296C17CA1FD1B2C528E2B369C115D6CBB200E9660FD4995BA814FFBF93 1 15E931C3B8793A9BDF999671A29251D2B203426C5345708F952105F99D41C11F 1 018CD72242633AF3305EB13E7CD953B16277867DED0BD0C868F8F348AB2B681A 1 238FDC9A93A4E1FA62FEC9C0909D121E35D329A9F9F05B848496ED3471E5DBF5 1 10FB0C6FDE83B1A13F0D9EC14635C2CB1BAD70CC2635949E70DF3512022B1453 1 0F1AC99CE1F4A70C8165603F88D721483B71BCC6BBBDB6B07B7135B45E629ECA 1 1D621AD33131813E957C0C5BBDE16692698C969F0FE32488BB681B6696D2A649\"}}, \"tailsHash\": \"GXaF48RhPFvVhQDhi2rTQDbQzXeQykNn6iNCGwcbh68V\", \"tailsLocation\": \"http://128.179.184.61:6543/GxgDCXeCGmqqz259Mva9h6:4:GxgDCXeCGmqqz259Mva9h6:3:CL:63796:LauzhackDemoRevoke3:CL_ACCUM:d641ffcc-2abf-4627-a04a-50b9e4b281f8\"}}, \"pending_pub\": [], \"revoc_reg_entry\": {\"ver\": \"1.0\", \"value\": {\"accum\": \"21 12A7B71CEA4C8DFF7D9D91CC2CD8FF29D1680C0C395D3424479B953F10D70F95F 21 122F0E00C9E6A04FB002071AC94A480BC7F9E26C3DFB7F7A76BEB2139FE7D316D 6 7007F700365E9B90DE198BB1C777EEF80B2D78E9BABA038030BA5E004F891AD1 4 3A5707887357F81176FC9750CF659D651170248E8CF14BA332D4A3B2B532559A 6 769A87F781160FF00F2474351C74FA375CAC236F078B9FF4BF5C8CF3C0AD5ACC 4 29BF411FA01AD5A5232D297B28B44FF83000437D44714BE4644B3997D5BF783D\"}}, \"created_at\": \"2022-12-03T16:42:32.864705Z\", \"max_cred_num\": 1000, \"updated_at\": \"2022-12-03T16:42:38.667276Z\"}}'"
      ]
     },
     "execution_count": 167,
     "metadata": {},
     "output_type": "execute_result"
    }
   ],
   "source": [
    "headers = CaseInsensitiveDict()\n",
    "headers[\"accept\"] = \"application/json\"\n",
    "\n",
    "res10 = rq.get(f'{host}:9020/revocation/active-registry/{cred_def}', headers=headers)\n",
    "res10.text"
   ]
  },
  {
   "cell_type": "code",
   "execution_count": 168,
   "metadata": {},
   "outputs": [
    {
     "data": {
      "text/plain": [
       "'GxgDCXeCGmqqz259Mva9h6:4:GxgDCXeCGmqqz259Mva9h6:3:CL:63796:LauzhackDemoRevoke3:CL_ACCUM:d641ffcc-2abf-4627-a04a-50b9e4b281f8'"
      ]
     },
     "execution_count": 168,
     "metadata": {},
     "output_type": "execute_result"
    }
   ],
   "source": [
    "revoc_reg_id = res10.json()['result']['revoc_reg_id']\n",
    "revoc_reg_id"
   ]
  },
  {
   "cell_type": "markdown",
   "metadata": {},
   "source": [
    "# 5 revoke_credentials"
   ]
  },
  {
   "cell_type": "code",
   "execution_count": 173,
   "metadata": {},
   "outputs": [
    {
     "data": {
      "text/plain": [
       "'[{\"cred_def_id\": \"GxgDCXeCGmqqz259Mva9h6:3:CL:63796:LauzhackDemoRevoke3\", \"cred_ex_id\": \"b6e914ea-c5ff-4493-9ad4-05e223790dc4\", \"record_id\": \"2a1726ad-fbfa-4112-9863-955435fbf95e\", \"state\": \"issued\", \"cred_rev_id\": \"1\", \"created_at\": \"2022-12-03T16:54:44.497661Z\", \"rev_reg_id\": \"GxgDCXeCGmqqz259Mva9h6:4:GxgDCXeCGmqqz259Mva9h6:3:CL:63796:LauzhackDemoRevoke3:CL_ACCUM:d641ffcc-2abf-4627-a04a-50b9e4b281f8\", \"updated_at\": \"2022-12-03T16:54:44.497661Z\"}, {\"cred_def_id\": \"GxgDCXeCGmqqz259Mva9h6:3:CL:63796:LauzhackDemoRevoke3\", \"cred_ex_id\": \"6da05780-0d84-4cfa-8cc8-d0c49b6652d8\", \"record_id\": \"6eda46a9-b493-48ef-a259-3dcb1aa10832\", \"state\": \"issued\", \"cred_rev_id\": \"2\", \"created_at\": \"2022-12-03T16:56:18.110320Z\", \"rev_reg_id\": \"GxgDCXeCGmqqz259Mva9h6:4:GxgDCXeCGmqqz259Mva9h6:3:CL:63796:LauzhackDemoRevoke3:CL_ACCUM:d641ffcc-2abf-4627-a04a-50b9e4b281f8\", \"updated_at\": \"2022-12-03T16:56:18.110320Z\"}]'"
      ]
     },
     "execution_count": 173,
     "metadata": {},
     "output_type": "execute_result"
    }
   ],
   "source": [
    "headers = CaseInsensitiveDict()\n",
    "headers[\"accept\"] = \"application/json\"\n",
    "\n",
    "res11 = rq.get(f'{host}:9020/revocation/registry/{revoc_reg_id}/issued/details', headers=headers)\n",
    "res11.text"
   ]
  },
  {
   "cell_type": "code",
   "execution_count": 174,
   "metadata": {},
   "outputs": [
    {
     "data": {
      "text/plain": [
       "'b6e914ea-c5ff-4493-9ad4-05e223790dc4'"
      ]
     },
     "execution_count": 174,
     "metadata": {},
     "output_type": "execute_result"
    }
   ],
   "source": [
    "cred_ex_id = res11.json()[0]['cred_ex_id']\n",
    "cred_ex_id"
   ]
  },
  {
   "cell_type": "code",
   "execution_count": 185,
   "metadata": {},
   "outputs": [
    {
     "data": {
      "text/plain": [
       "'{}'"
      ]
     },
     "execution_count": 185,
     "metadata": {},
     "output_type": "execute_result"
    }
   ],
   "source": [
    "headers = CaseInsensitiveDict()\n",
    "headers[\"accept\"] = \"application/json\"\n",
    "headers[\"Content-Type\"] = \"application/json\"\n",
    "\n",
    "data = \"\"\"\n",
    "{\"connection_id\":\"%s\",\n",
    "\"cred_ex_id\": \"%s\",\n",
    "\"notify\": true\n",
    "}\n",
    "\"\"\"% (res2.json()['connectionId'], cred_ex_id)\n",
    "\n",
    "res12 = rq.post(f'{host}:9020/revocation/revoke', headers=headers, data=data)\n",
    "res12.text"
   ]
  },
  {
   "cell_type": "code",
   "execution_count": 190,
   "metadata": {},
   "outputs": [
    {
     "data": {
      "text/plain": [
       "<Response [200]>"
      ]
     },
     "execution_count": 190,
     "metadata": {},
     "output_type": "execute_result"
    }
   ],
   "source": [
    "headers = CaseInsensitiveDict()\n",
    "headers[\"accept\"] = \"application/json\"\n",
    "\n",
    "res13 = rq.get(f'{host}:9020/revocation/registry/{revoc_reg_id}/tails-file', headers=headers)\n",
    "res13"
   ]
  }
 ],
 "metadata": {
  "kernelspec": {
   "display_name": "Python 3.9.0 ('ada')",
   "language": "python",
   "name": "python3"
  },
  "language_info": {
   "codemirror_mode": {
    "name": "ipython",
    "version": 3
   },
   "file_extension": ".py",
   "mimetype": "text/x-python",
   "name": "python",
   "nbconvert_exporter": "python",
   "pygments_lexer": "ipython3",
   "version": "3.9.0"
  },
  "orig_nbformat": 4,
  "vscode": {
   "interpreter": {
    "hash": "b200889c2b79fb9d96987e00ef0b377c294eb3fe29be364756a29fa08d464260"
   }
  }
 },
 "nbformat": 4,
 "nbformat_minor": 2
}
